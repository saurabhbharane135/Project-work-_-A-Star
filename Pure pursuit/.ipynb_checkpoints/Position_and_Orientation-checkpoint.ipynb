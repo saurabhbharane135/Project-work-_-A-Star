{
 "cells": [
  {
   "cell_type": "code",
   "execution_count": 1,
   "id": "e48dfb29",
   "metadata": {},
   "outputs": [
    {
     "name": "stdout",
     "output_type": "stream",
     "text": [
      "Connected to CoppeliaSim\n",
      "Initial Position: [-0.0012412   0.00030865  0.13867661]\n",
      "Initial Orientation: [-6.78230135e-05 -2.04146188e-03 -1.40969583e-03]\n",
      "Connection closed\n"
     ]
    }
   ],
   "source": [
    "#Get position and orientation of the pioneer 3dx\n",
    "import sim\n",
    "import numpy as np\n",
    "\n",
    "def get_robot_position(client_id, robot_handle):\n",
    "    # Get the position of the robot\n",
    "    _, position = sim.simxGetObjectPosition(client_id, robot_handle, -1, sim.simx_opmode_blocking)\n",
    "    return np.array(position)\n",
    "\n",
    "def get_robot_orientation(client_id, robot_handle):\n",
    "    # Get the orientation of the robot\n",
    "    _, orientation = sim.simxGetObjectOrientation(client_id, robot_handle, -1, sim.simx_opmode_blocking)\n",
    "    return np.array(orientation)\n",
    "\n",
    "def main():\n",
    "    sim.simxFinish(-1)\n",
    "    client_id = sim.simxStart('127.0.0.1', 19999, True, True, 5000, 5)\n",
    "\n",
    "    if client_id != -1:\n",
    "        print('Connected to CoppeliaSim')\n",
    "        \n",
    "        # Replace 'your_robot_name' with the actual name of your Pioneer 3DX robot in CoppeliaSim\n",
    "        robot_name = 'Pioneer_p3dx'\n",
    "        _, robot_handle = sim.simxGetObjectHandle(client_id, robot_name, sim.simx_opmode_blocking)\n",
    "\n",
    "        if robot_handle != -1:\n",
    "            # Get and print the initial position and orientation of the robot\n",
    "            initial_position = get_robot_position(client_id, robot_handle)\n",
    "            initial_orientation = get_robot_orientation(client_id, robot_handle)\n",
    "            print('Initial Position:', initial_position)\n",
    "            print('Initial Orientation:', initial_orientation)\n",
    "\n",
    "            # Add your path following or control logic here\n",
    "\n",
    "        else:\n",
    "            print('Failed to get handle for the robot')\n",
    "\n",
    "        sim.simxFinish(client_id)\n",
    "        print('Connection closed')\n",
    "\n",
    "    else:\n",
    "        print('Failed to connect to CoppeliaSim')\n",
    "\n",
    "if __name__ == \"__main__\":\n",
    "    main()"
   ]
  },
  {
   "cell_type": "code",
   "execution_count": null,
   "id": "bba11203",
   "metadata": {},
   "outputs": [],
   "source": []
  }
 ],
 "metadata": {
  "kernelspec": {
   "display_name": "Python 3 (ipykernel)",
   "language": "python",
   "name": "python3"
  },
  "language_info": {
   "codemirror_mode": {
    "name": "ipython",
    "version": 3
   },
   "file_extension": ".py",
   "mimetype": "text/x-python",
   "name": "python",
   "nbconvert_exporter": "python",
   "pygments_lexer": "ipython3",
   "version": "3.11.5"
  }
 },
 "nbformat": 4,
 "nbformat_minor": 5
}
