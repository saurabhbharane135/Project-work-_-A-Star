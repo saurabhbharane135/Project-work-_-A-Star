{
 "cells": [
  {
   "cell_type": "code",
   "execution_count": 14,
   "id": "01a8f068",
   "metadata": {},
   "outputs": [
    {
     "name": "stdout",
     "output_type": "stream",
     "text": [
      "Program Started\n",
      "Connected Successfully.\n"
     ]
    }
   ],
   "source": [
    "import sim\n",
    "import time\n",
    "import sys\n",
    "\n",
    "print(\"Program Started\")\n",
    "sim.simxFinish(-1)\n",
    "clientID = sim.simxStart('127.0.0.1', 19999, True, True, 5000, 5)\n",
    "\n",
    "if(clientID != -1):\n",
    "    print('Connected Successfully.')\n",
    "else:\n",
    "    sys.exit('Failed To connect.')\n",
    "\n",
    "time.sleep(1)\n",
    "\n",
    "error_code, left_motor_handle = sim.simxGetObjectHandle(clientID, '/PioneerP3DX/leftMotor', sim.simx_opmode_oneshot_wait)\n",
    "error_code, right_motor_handle = sim.simxGetObjectHandle(clientID, '/PioneerP3DX/rightMotor', sim.simx_opmode_oneshot_wait)"
   ]
  },
  {
   "cell_type": "code",
   "execution_count": 7,
   "id": "698a6d56",
   "metadata": {},
   "outputs": [],
   "source": [
    "error_code = sim.simxSetJointTargetVelocity(clientID, left_motor_handle, 6, sim.simx_opmode_oneshot_wait)\n",
    "error_code = sim.simxSetJointTargetVelocity(clientID, right_motor_handle, 0, sim.simx_opmode_oneshot_wait)"
   ]
  },
  {
   "cell_type": "code",
   "execution_count": 15,
   "id": "c4f50139",
   "metadata": {},
   "outputs": [],
   "source": [
    "error_code = sim.simxSetJointTargetVelocity(clientID, left_motor_handle, 0.5, sim.simx_opmode_oneshot_wait)\n",
    "error_code = sim.simxSetJointTargetVelocity(clientID, right_motor_handle, -0.5, sim.simx_opmode_oneshot_wait)"
   ]
  },
  {
   "cell_type": "code",
   "execution_count": 10,
   "id": "c4ea95af",
   "metadata": {},
   "outputs": [],
   "source": [
    "# Set the target position for the left wheel (example: rotate 360 degrees)\n",
    "sim.simxSetJointTargetPosition(clientID, left_motor_handle, 2 * 3.14159, sim.simx_opmode_oneshot)\n",
    "\n",
    "# Set the target position for the right wheel (example: rotate 360 degrees)\n",
    "sim.simxSetJointTargetPosition(clientID, right_motor_handle, 2 * 3.14159, sim.simx_opmode_oneshot)\n",
    "\n",
    "time.sleep(2)  # Allow some time for the wheels to move (adjust as needed)"
   ]
  },
  {
   "cell_type": "code",
   "execution_count": 11,
   "id": "103de178",
   "metadata": {},
   "outputs": [
    {
     "name": "stdout",
     "output_type": "stream",
     "text": [
      "Program Started\n",
      "Connected Successfully.\n",
      "Connection closed.\n"
     ]
    }
   ],
   "source": [
    "import sim\n",
    "import time\n",
    "import sys\n",
    "\n",
    "print(\"Program Started\")\n",
    "sim.simxFinish(-1)\n",
    "clientID = sim.simxStart('127.0.0.1', 19999, True, True, 5000, 5)\n",
    "\n",
    "if clientID != -1:\n",
    "    print('Connected Successfully.')\n",
    "\n",
    "    time.sleep(1)\n",
    "\n",
    "    # Get handles for the left and right wheels\n",
    "    error_code, left_motor_handle = sim.simxGetObjectHandle(clientID, '/PioneerP3DX/leftMotor', sim.simx_opmode_oneshot_wait)\n",
    "    error_code, right_motor_handle = sim.simxGetObjectHandle(clientID, '/PioneerP3DX/rightMotor', sim.simx_opmode_oneshot_wait)\n",
    "\n",
    "    if error_code == 0:\n",
    "        # Set the target position for the left wheel (example: rotate 360 degrees)\n",
    "        sim.simxSetJointTargetPosition(clientID, left_motor_handle, 2 * 3.14159, sim.simx_opmode_oneshot_wait)\n",
    "\n",
    "        # Set the target position for the right wheel (example: rotate 360 degrees)\n",
    "        sim.simxSetJointTargetPosition(clientID, right_motor_handle, 2 * 3.14159, sim.simx_opmode_oneshot_wait)\n",
    "\n",
    "        time.sleep(2)  # Allow some time for the wheels to move (adjust as needed)\n",
    "\n",
    "    else:\n",
    "        print('Error getting motor handles.')\n",
    "\n",
    "    # Close the connection\n",
    "    sim.simxFinish(clientID)\n",
    "    print('Connection closed.')\n",
    "\n",
    "else:\n",
    "    sys.exit('Failed To connect.')"
   ]
  },
  {
   "cell_type": "code",
   "execution_count": 13,
   "id": "e0051abf",
   "metadata": {},
   "outputs": [
    {
     "name": "stdout",
     "output_type": "stream",
     "text": [
      "Program Started\n",
      "Connected Successfully.\n",
      "Connection closed.\n"
     ]
    }
   ],
   "source": [
    "import sim\n",
    "import time\n",
    "import sys\n",
    "\n",
    "print(\"Program Started\")\n",
    "sim.simxFinish(-1)\n",
    "clientID = sim.simxStart('127.0.0.1', 19999, True, True, 5000, 5)\n",
    "\n",
    "if clientID != -1:\n",
    "    print('Connected Successfully.')\n",
    "\n",
    "    time.sleep(1)\n",
    "\n",
    "    # Get handles for the left and right wheels\n",
    "    error_code, left_motor_handle = sim.simxGetObjectHandle(clientID, '/PioneerP3DX/leftMotor', sim.simx_opmode_oneshot_wait)\n",
    "    error_code, right_motor_handle = sim.simxGetObjectHandle(clientID, '/PioneerP3DX/rightMotor', sim.simx_opmode_oneshot_wait)\n",
    "\n",
    "    if error_code == 0:\n",
    "        # Set the target position for the left wheel (example: rotate 360 degrees)\n",
    "        sim.simxSetJointTargetPosition(clientID, left_motor_handle, 2 * 3.14159, sim.simx_opmode_oneshot_wait)\n",
    "\n",
    "        # Set the target position for the right wheel (example: rotate 360 degrees)\n",
    "        sim.simxSetJointTargetPosition(clientID, right_motor_handle, 2 * 3.14159, sim.simx_opmode_oneshot_wait)\n",
    "\n",
    "        # Trigger simulation step\n",
    "        sim.simxSynchronousTrigger(clientID)\n",
    "\n",
    "        time.sleep(20)  # Allow some time for the wheels to move (adjust as needed)\n",
    "\n",
    "    else:\n",
    "        print('Error getting motor handles.')\n",
    "\n",
    "    # Close the connection\n",
    "    sim.simxFinish(clientID)\n",
    "    print('Connection closed.')\n",
    "\n",
    "else:\n",
    "    sys.exit('Failed To connect.')"
   ]
  },
  {
   "cell_type": "code",
   "execution_count": 16,
   "id": "4f89fd62",
   "metadata": {},
   "outputs": [
    {
     "name": "stdout",
     "output_type": "stream",
     "text": [
      "Program Started\n",
      "Connected Successfully.\n",
      "Connection closed.\n"
     ]
    }
   ],
   "source": [
    "import sim\n",
    "import time\n",
    "import sys\n",
    "\n",
    "# Wheel radius\n",
    "wheel_radius = 0.0975\n",
    "\n",
    "# Calculate linear velocity for a full rotation\n",
    "linear_velocity = 2 * 3.14159 * wheel_radius\n",
    "\n",
    "print(\"Program Started\")\n",
    "sim.simxFinish(-1)\n",
    "clientID = sim.simxStart('127.0.0.1', 19999, True, True, 5000, 5)\n",
    "\n",
    "if clientID != -1:\n",
    "    print('Connected Successfully.')\n",
    "\n",
    "    time.sleep(1)\n",
    "\n",
    "    # Get handles for the left and right wheels\n",
    "    error_code, left_motor_handle = sim.simxGetObjectHandle(clientID, '/PioneerP3DX/leftMotor', sim.simx_opmode_oneshot_wait)\n",
    "    error_code, right_motor_handle = sim.simxGetObjectHandle(clientID, '/PioneerP3DX/rightMotor', sim.simx_opmode_oneshot_wait)\n",
    "\n",
    "    if error_code == 0:\n",
    "        # Calculate angular velocity for a full rotation\n",
    "        angular_velocity = linear_velocity / wheel_radius\n",
    "\n",
    "        # Set the target velocity for the left wheel\n",
    "        sim.simxSetJointTargetVelocity(clientID, left_motor_handle, angular_velocity, sim.simx_opmode_oneshot_wait)\n",
    "\n",
    "        # Set the target velocity for the right wheel\n",
    "        sim.simxSetJointTargetVelocity(clientID, right_motor_handle, -angular_velocity, sim.simx_opmode_oneshot_wait)\n",
    "\n",
    "        # Wait for the rotation to complete\n",
    "        time.sleep(5)  # Adjust as needed\n",
    "\n",
    "        # Stop the wheels\n",
    "        sim.simxSetJointTargetVelocity(clientID, left_motor_handle, 0, sim.simx_opmode_oneshot_wait)\n",
    "        sim.simxSetJointTargetVelocity(clientID, right_motor_handle, 0, sim.simx_opmode_oneshot_wait)\n",
    "\n",
    "    else:\n",
    "        print('Error getting motor handles.')\n",
    "\n",
    "    # Close the connection\n",
    "    sim.simxFinish(clientID)\n",
    "    print('Connection closed.')\n",
    "\n",
    "else:\n",
    "    sys.exit('Failed To connect.')"
   ]
  },
  {
   "cell_type": "code",
   "execution_count": 18,
   "id": "aee64de3",
   "metadata": {},
   "outputs": [
    {
     "name": "stdout",
     "output_type": "stream",
     "text": [
      "Program Started\n",
      "Connected Successfully.\n",
      "Connection closed.\n"
     ]
    }
   ],
   "source": [
    "import sim\n",
    "import time\n",
    "import sys\n",
    "\n",
    "# Wheel radius\n",
    "wheel_radius = 0.0975\n",
    "\n",
    "# Calculate linear velocity for a full rotation\n",
    "linear_velocity = 2 * 3.14159 * wheel_radius\n",
    "\n",
    "# Calculate angular velocity for a full rotation\n",
    "angular_velocity = linear_velocity / wheel_radius\n",
    "\n",
    "# Desired rotation angle\n",
    "rotation_angle = 360  # in degrees\n",
    "\n",
    "# Calculate the duration for which the wheels should rotate\n",
    "rotation_duration = rotation_angle / angular_velocity\n",
    "\n",
    "print(\"Program Started\")\n",
    "sim.simxFinish(-1)\n",
    "clientID = sim.simxStart('127.0.0.1', 19999, True, True, 5000, 5)\n",
    "\n",
    "if clientID != -1:\n",
    "    print('Connected Successfully.')\n",
    "\n",
    "    time.sleep(1)\n",
    "\n",
    "    # Get handles for the left and right wheels\n",
    "    error_code, left_motor_handle = sim.simxGetObjectHandle(clientID, '/PioneerP3DX/leftMotor', sim.simx_opmode_oneshot_wait)\n",
    "    error_code, right_motor_handle = sim.simxGetObjectHandle(clientID, '/PioneerP3DX/rightMotor', sim.simx_opmode_oneshot_wait)\n",
    "\n",
    "    if error_code == 0:\n",
    "        # Set the target velocity for the left wheel\n",
    "        sim.simxSetJointTargetVelocity(clientID, left_motor_handle, angular_velocity, sim.simx_opmode_oneshot_wait)\n",
    "\n",
    "        # Set the target velocity for the right wheel\n",
    "        sim.simxSetJointTargetVelocity(clientID, right_motor_handle, -angular_velocity, sim.simx_opmode_oneshot_wait)\n",
    "\n",
    "        # Wait for the rotation to complete\n",
    "        time.sleep(rotation_duration)\n",
    "\n",
    "        # Stop the wheels\n",
    "        sim.simxSetJointTargetVelocity(clientID, left_motor_handle, 0, sim.simx_opmode_oneshot_wait)\n",
    "        sim.simxSetJointTargetVelocity(clientID, right_motor_handle, 0, sim.simx_opmode_oneshot_wait)\n",
    "\n",
    "    else:\n",
    "        print('Error getting motor handles.')\n",
    "\n",
    "    # Close the connection\n",
    "    sim.simxFinish(clientID)\n",
    "    print('Connection closed.')\n",
    "\n",
    "else:\n",
    "    sys.exit('Failed To connect.')\n"
   ]
  },
  {
   "cell_type": "code",
   "execution_count": 28,
   "id": "7f05181b",
   "metadata": {},
   "outputs": [
    {
     "name": "stdout",
     "output_type": "stream",
     "text": [
      "Program Started\n",
      "Connected Successfully.\n",
      "Connection closed.\n"
     ]
    }
   ],
   "source": [
    "import sim\n",
    "import time\n",
    "import sys\n",
    "\n",
    "# Desired rotation angle\n",
    "rotation_angle = 180  # in degrees\n",
    "\n",
    "print(\"Program Started\")\n",
    "sim.simxFinish(-1)\n",
    "clientID = sim.simxStart('127.0.0.1', 19999, True, True, 5000, 5)\n",
    "\n",
    "if clientID != -1:\n",
    "    print('Connected Successfully.')\n",
    "\n",
    "    time.sleep(1)\n",
    "\n",
    "    # Get handles for the left and right wheels\n",
    "    error_code, left_motor_handle = sim.simxGetObjectHandle(clientID, '/PioneerP3DX/leftMotor', sim.simx_opmode_oneshot_wait)\n",
    "    error_code, right_motor_handle = sim.simxGetObjectHandle(clientID, '/PioneerP3DX/rightMotor', sim.simx_opmode_oneshot_wait)\n",
    "\n",
    "    if error_code == 0:\n",
    "        # Calculate linear velocity for a full rotation\n",
    "        linear_velocity = (2 * 3.14159) / 1  # 1 second for 360-degree rotation\n",
    "\n",
    "        # Set the target velocity for the left wheel\n",
    "        sim.simxSetJointTargetVelocity(clientID, left_motor_handle, linear_velocity, sim.simx_opmode_oneshot_wait)\n",
    "\n",
    "        # Set the target velocity for the right wheel\n",
    "        sim.simxSetJointTargetVelocity(clientID, right_motor_handle, -linear_velocity, sim.simx_opmode_oneshot_wait)\n",
    "\n",
    "        # Wait for the rotation to complete\n",
    "        time.sleep(1)\n",
    "\n",
    "        # Stop the wheels\n",
    "        sim.simxSetJointTargetVelocity(clientID, left_motor_handle, 0, sim.simx_opmode_oneshot_wait)\n",
    "        sim.simxSetJointTargetVelocity(clientID, right_motor_handle, 0, sim.simx_opmode_oneshot_wait)\n",
    "\n",
    "    else:\n",
    "        print('Error getting motor handles.')\n",
    "\n",
    "    # Close the connection\n",
    "    sim.simxFinish(clientID)\n",
    "    print('Connection closed.')\n",
    "\n",
    "else:\n",
    "    sys.exit('Failed To connect.')"
   ]
  },
  {
   "cell_type": "code",
   "execution_count": null,
   "id": "326b3acf",
   "metadata": {},
   "outputs": [],
   "source": []
  },
  {
   "cell_type": "code",
   "execution_count": null,
   "id": "a3615a68",
   "metadata": {},
   "outputs": [],
   "source": []
  }
 ],
 "metadata": {
  "kernelspec": {
   "display_name": "Python 3 (ipykernel)",
   "language": "python",
   "name": "python3"
  },
  "language_info": {
   "codemirror_mode": {
    "name": "ipython",
    "version": 3
   },
   "file_extension": ".py",
   "mimetype": "text/x-python",
   "name": "python",
   "nbconvert_exporter": "python",
   "pygments_lexer": "ipython3",
   "version": "3.11.5"
  }
 },
 "nbformat": 4,
 "nbformat_minor": 5
}
