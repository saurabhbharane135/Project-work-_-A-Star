{
 "cells": [
  {
   "cell_type": "code",
   "execution_count": 1,
   "id": "4b3175c7",
   "metadata": {},
   "outputs": [
    {
     "name": "stdout",
     "output_type": "stream",
     "text": [
      "Program started\n",
      "Connected to remote API server\n",
      "Number of objects in the scene:  56\n",
      "Program ended\n"
     ]
    }
   ],
   "source": [
    "# -*- coding: utf-8 -*-\n",
    "\"\"\"\n",
    "Created on Mon Jan  1 05:16:08 2024\n",
    "\n",
    "@author: Saurabh\n",
    "\"\"\"\n",
    "\n",
    "# Make sure to have the server side running in CoppeliaSim: \n",
    "# in a child script of a CoppeliaSim scene, add following command\n",
    "# to be executed just once, at simulation start:\n",
    "#\n",
    "# simRemoteApi.start(19999)\n",
    "#\n",
    "# then start simulation, and run this program.\n",
    "#\n",
    "# IMPORTANT: for each successful call to simxStart, there\n",
    "# should be a corresponding call to simxFinish at the end!\n",
    "\n",
    "try:\n",
    "    import sim\n",
    "except:\n",
    "    print ('--------------------------------------------------------------')\n",
    "    print ('\"sim.py\" could not be imported. This means very probably that')\n",
    "    print ('either \"sim.py\" or the remoteApi library could not be found.')\n",
    "    print ('Make sure both are in the same folder as this file,')\n",
    "    print ('or appropriately adjust the file \"sim.py\"')\n",
    "    print ('--------------------------------------------------------------')\n",
    "    print ('')\n",
    "\n",
    "import time\n",
    "\n",
    "print ('Program started')\n",
    "sim.simxFinish(-1) # just in case, close all opened connections\n",
    "clientID=sim.simxStart('127.0.0.1',19999,True,True,5000,5) # Connect to CoppeliaSim\n",
    "if clientID!=-1:\n",
    "    print ('Connected to remote API server')\n",
    "\n",
    "    # Now try to retrieve data in a blocking fashion (i.e. a service call):\n",
    "    res,objs=sim.simxGetObjects(clientID,sim.sim_handle_all,sim.simx_opmode_blocking)\n",
    "    if res==sim.simx_return_ok:\n",
    "        print ('Number of objects in the scene: ',len(objs))\n",
    "    else:\n",
    "        print ('Remote API function call returned with error code: ',res)\n",
    "\n",
    "    time.sleep(2)\n",
    "\n",
    "else:\n",
    "    print ('Failed connecting to remote API server')\n",
    "print ('Program ended')"
   ]
  },
  {
   "cell_type": "code",
   "execution_count": null,
   "id": "e3db7ac2",
   "metadata": {},
   "outputs": [],
   "source": []
  }
 ],
 "metadata": {
  "kernelspec": {
   "display_name": "Python 3 (ipykernel)",
   "language": "python",
   "name": "python3"
  },
  "language_info": {
   "codemirror_mode": {
    "name": "ipython",
    "version": 3
   },
   "file_extension": ".py",
   "mimetype": "text/x-python",
   "name": "python",
   "nbconvert_exporter": "python",
   "pygments_lexer": "ipython3",
   "version": "3.11.5"
  }
 },
 "nbformat": 4,
 "nbformat_minor": 5
}
